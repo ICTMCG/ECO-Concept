{
 "cells": [
  {
   "cell_type": "code",
   "execution_count": null,
   "outputs": [],
   "source": [
    "import json\n",
    "import torch\n",
    "import numpy as np\n",
    "from transformers import RobertaTokenizer, BertTokenizer\n",
    "from utils.vis_utils import vis_concepts\n",
    "from utils.evaluate_utils import all_evaluate\n",
    "from utils.concept_utils import concept_sum, concept_sim\n",
    "from models.AttenConcept import AttenConcept\n",
    "\n",
    "config = {\n",
    "    'base_model_name': 'roberta',\n",
    "    'task': 'IMDB',\n",
    "    'dist_weight': -0.01,\n",
    "    'con_weight': 0.1,\n",
    "    'lr': 0.00001,\n",
    "    'num_classes': 2,\n",
    "    'num_concepts': 20,\n",
    "    'batch_size': 256,\n",
    "    'max_len': 256,\n",
    "    'num_cases': 10,\n",
    "    'data_path': './datasets/',\n",
    "    'bert_path': './pre-trained-models/',\n",
    "    'checkpoint_path': './checkpoints/',\n",
    "    'prompt_path': './prompts/',\n",
    "    'llm_type': 'gpt-4o'\n",
    "}\n",
    "\n",
    "if config['base_model_name'] == 'roberta':\n",
    "    tokenizer = RobertaTokenizer.from_pretrained(config[\"bert_path\"])\n",
    "if config['base_model_name'] == 'bert':\n",
    "    tokenizer = BertTokenizer.from_pretrained(config[\"bert_path\"])\n",
    "model = AttenConcept(num_classes=config['num_classes'],\n",
    "                     num_concepts=config['num_concepts'],\n",
    "                     dist_weight=config['dist_weight'],\n",
    "                     con_weight=config['con_weight'],\n",
    "                     base_model_name=config['base_model_name'],\n",
    "                     bert_path=config['bert_path'],\n",
    "                     max_len=config['max_len'])\n",
    "model.load_state_dict(torch.load(config['checkpoint_path']))\n",
    "model.cuda()\n",
    "model = model.eval()\n",
    "weights = list(model.classifier.parameters())[0].cpu().detach().numpy()"
   ],
   "metadata": {
    "collapsed": false
   }
  },
  {
   "cell_type": "code",
   "execution_count": null,
   "outputs": [],
   "source": [
    "# Testing ____________________________________________\n",
    "_, _, _, _ = all_evaluate(model, config['task'], config['num_classes'], config['batch_size'], 'test', config['bert_path'], config['base_model_name'], max_len=config['max_len'])"
   ],
   "metadata": {
    "collapsed": false
   }
  },
  {
   "cell_type": "code",
   "execution_count": null,
   "outputs": [],
   "source": [
    "# Get features from training set ____________________________________________\n",
    "all_contents, all_slot_attn, y_true, y_pred = all_evaluate(model, config['task'], config['num_classes'], config['batch_size'], 'train', config['bert_path'], config['base_model_name'], max_len=config['max_len'])"
   ],
   "metadata": {
    "collapsed": false
   }
  },
  {
   "cell_type": "code",
   "execution_count": null,
   "outputs": [],
   "source": [
    "slot_attention = np.array(all_slot_attn)\n",
    "input_logits = np.sum(slot_attention, axis=-1)\n",
    "n, _ = input_logits.shape\n",
    "contributions = []\n",
    "for i in range(n):\n",
    "    contributions.append(input_logits[i] * weights)\n",
    "contributions = np.array(contributions)\n",
    "\n",
    "concept_logits = np.sum(slot_attention, axis=-1)\n",
    "cases_ids = {}\n",
    "for concept_id in range(config['num_concepts']):\n",
    "    filtered_lst = [(i, x) for i, x in enumerate(concept_logits[:, concept_id])]\n",
    "    indexed_lst = sorted(filtered_lst, key=lambda x: x[1], reverse=True)\n",
    "    cases_ids[concept_id] = [item[0] for item in indexed_lst][:config['num_cases']]\n",
    "\n",
    "concept_sum(all_contents, all_slot_attn, tokenizer, config)\n",
    "concept_sim(all_contents, all_slot_attn, tokenizer, config)\n",
    "\n",
    "summary_list = []\n",
    "with open(config['prompt_path'] + \"summary.json\", 'r') as f:\n",
    "    summary = json.load(f)\n",
    "for item in summary:\n",
    "    summary_list.append(item['Summary'])"
   ],
   "metadata": {
    "collapsed": false
   }
  },
  {
   "cell_type": "code",
   "execution_count": null,
   "outputs": [],
   "source": [
    "# Visualization ____________________________________________\n",
    "concepts_html = vis_concepts(all_contents,\n",
    "                            np.array(all_slot_attn),\n",
    "                            contributions,\n",
    "                            summary_list,\n",
    "                            y_true,\n",
    "                            y_pred,\n",
    "                            cases_ids,\n",
    "                            tokenizer,\n",
    "                            config['vis_threshold'])"
   ],
   "metadata": {
    "collapsed": false
   }
  }
 ],
 "metadata": {
  "kernelspec": {
   "name": "python3",
   "language": "python",
   "display_name": "Python 3 (ipykernel)"
  },
  "language_info": {
   "codemirror_mode": {
    "name": "ipython",
    "version": 2
   },
   "file_extension": ".py",
   "mimetype": "text/x-python",
   "name": "python",
   "nbconvert_exporter": "python",
   "pygments_lexer": "ipython2",
   "version": "2.7.6"
  }
 },
 "nbformat": 4,
 "nbformat_minor": 0
}
